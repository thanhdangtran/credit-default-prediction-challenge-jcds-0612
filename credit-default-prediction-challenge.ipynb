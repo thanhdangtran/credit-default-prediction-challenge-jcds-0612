{
 "cells": [
  {
   "cell_type": "markdown",
   "metadata": {},
   "source": [
    "**Cell 1/11 — Imports & Config**"
   ]
  },
  {
   "cell_type": "code",
   "execution_count": 29,
   "metadata": {
    "execution": {
     "iopub.status.busy": "2025-08-27T04:37:04.807944Z"
    },
    "trusted": true
   },
   "outputs": [
    {
     "name": "stdout",
     "output_type": "stream",
     "text": [
      "Paths: train.csv test.csv sample_submission.csv\n",
      "Outdir: ./outputs\n",
      "Loaded: train (23000, 25), test (7000, 24), sample_sub (7000, 2)\n"
     ]
    }
   ],
   "source": [
    "# Import các thư viện\n",
    "import os, json, time, random\n",
    "from datetime import datetime\n",
    "from typing import List, Tuple, Dict\n",
    "import numpy as np\n",
    "# np.seterr(invalid=\"ignore\") Nếu warnings\n",
    "import pandas as pd\n",
    "\n",
    "# Các công cụ từ Scikit-learn\n",
    "from sklearn.metrics import roc_auc_score\n",
    "from sklearn.model_selection import StratifiedKFold\n",
    "from sklearn.preprocessing import StandardScaler\n",
    "from sklearn.linear_model import LogisticRegression\n",
    "\n",
    "# Các thư viện Gradient Boosting (GBM)\n",
    "import lightgbm as lgb\n",
    "import xgboost as xgb\n",
    "from catboost import CatBoostClassifier, Pool\n",
    "\n",
    "# DATASET & PATHS (Kaggle <-> Local)\n",
    "import os, pandas as pd\n",
    "\n",
    "if os.path.exists(\"/kaggle/input\"):\n",
    "    TRAIN_CSV = \"/kaggle/input/credit-default-prediction-challenge-jcds-0612/train.csv\"\n",
    "    TEST_CSV  = \"/kaggle/input/credit-default-prediction-challenge-jcds-0612/test.csv\"\n",
    "    SAMPLE_SUB = \"/kaggle/input/credit-default-prediction-challenge-jcds-0612/sample_submission.csv\"\n",
    "    OUTDIR = \"/kaggle/working/outputs\"\n",
    "else:\n",
    "    TRAIN_CSV = \"train.csv\"\n",
    "    TEST_CSV  = \"test.csv\"\n",
    "    SAMPLE_SUB = \"sample_submission.csv\"\n",
    "    OUTDIR = \"./outputs\"\n",
    "\n",
    "os.makedirs(OUTDIR, exist_ok=True)\n",
    "\n",
    "print(\"Paths:\", TRAIN_CSV, TEST_CSV, SAMPLE_SUB)\n",
    "print(\"Outdir:\", OUTDIR)\n",
    "SEEDS = [42, 2021, 7, 99, 1234]      # Danh sách các seed để chạy nhiều lần\n",
    "N_FOLDS = 10                         # Chia dữ liệu thành 10 phần\n",
    "\n",
    "# Test load\n",
    "train_df = pd.read_csv(TRAIN_CSV)\n",
    "test_df  = pd.read_csv(TEST_CSV)\n",
    "sample_submission = pd.read_csv(SAMPLE_SUB)\n",
    "print(f\"Loaded: train {train_df.shape}, test {test_df.shape}, sample_sub {sample_submission.shape}\")"
   ]
  },
  {
   "cell_type": "markdown",
   "metadata": {},
   "source": [
    "**Cell 2/11 — Utilities**"
   ]
  },
  {
   "cell_type": "code",
   "execution_count": 2,
   "metadata": {
    "trusted": true
   },
   "outputs": [],
   "source": [
    "# Cố định random seed\n",
    "def set_seed(seed: int = 42):\n",
    "    random.seed(seed)\n",
    "    np.random.seed(seed)\n",
    "\n",
    "# Tạo log theo ngày\n",
    "def timestamp() -> str:\n",
    "    return datetime.now().strftime(\"%Y%m%d-%H%M%S\")\n",
    "\n",
    "# AUC\n",
    "def auc(y_true, y_prob) -> float:\n",
    "    return roc_auc_score(y_true, y_prob)\n",
    "\n",
    "# Kiểm tra thư mục\n",
    "def safe_makedirs(path: str):\n",
    "    if not os.path.exists(path):\n",
    "        os.makedirs(path, exist_ok=True)"
   ]
  },
  {
   "cell_type": "markdown",
   "metadata": {},
   "source": [
    "**Cell 3/11 — Phân loại dữ liệu**"
   ]
  },
  {
   "cell_type": "code",
   "execution_count": 3,
   "metadata": {
    "trusted": true
   },
   "outputs": [],
   "source": [
    "#Gọi tên dữ liệu\n",
    "BILL_COLS = [f\"BILL_AMT{i}\" for i in range(1, 7)]\n",
    "PAY_AMT_COLS = [f\"PAY_AMT{i}\" for i in range(1, 7)]\n",
    "PAY_STATUS_COLS = [\"PAY_0\", \"PAY_2\", \"PAY_3\", \"PAY_4\", \"PAY_5\", \"PAY_6\"]\n",
    "CAT_COLS = [\"SEX\", \"EDUCATION\", \"MARRIAGE\"]\n",
    "TARGET_COL = \"default_payment_next_month\"\n",
    "ID_COL = \"ID\""
   ]
  },
  {
   "cell_type": "markdown",
   "metadata": {},
   "source": [
    "**Cell 4/11 — Stats, slope, diffs**"
   ]
  },
  {
   "cell_type": "code",
   "execution_count": 4,
   "metadata": {
    "trusted": true
   },
   "outputs": [],
   "source": [
    "#rowwise_stats: tổng nợ trong 6 tháng, nợ trung bình, độ biến động, min, max, giá trị gần nhất\n",
    "def _rowwise_stats(df: pd.DataFrame, cols: List[str], prefix: str) -> pd.DataFrame:\n",
    "    X = df[cols].astype(float).values\n",
    "    out = pd.DataFrame(index=df.index)\n",
    "    out[f\"{prefix}_sum\"] = X.sum(axis=1)\n",
    "    out[f\"{prefix}_mean\"] = X.mean(axis=1)\n",
    "    out[f\"{prefix}_std\"] = X.std(axis=1)\n",
    "    out[f\"{prefix}_min\"] = X.min(axis=1)\n",
    "    out[f\"{prefix}_max\"] = X.max(axis=1)\n",
    "    out[f\"{prefix}_last\"] = X[:, -1]\n",
    "    return out\n",
    "\n",
    "#_slope_over_time: Tính độ hồi quy tuyến tính (tăng dần, giảm dần) của dư nợ qua thời gian\n",
    "def _slope_over_time(df_vals: np.ndarray, x: np.ndarray) -> np.ndarray:\n",
    "    xm = x.mean()\n",
    "    denom = ((x - xm) ** 2).sum()\n",
    "    y = df_vals\n",
    "    ym = y.mean(axis=1, keepdims=True)\n",
    "    num = ((x - xm) * (y - ym)).sum(axis=1)\n",
    "    return num / (denom + 1e-9)\n",
    "\n",
    "#_differences_stats: Sự thay đổi hành vi trả nợ (giảm mạnh hoặc tăng tiền trả hàng tháng gần nhất)\n",
    "def _differences_stats(df_vals: np.ndarray, prefix: str) -> Dict[str, np.ndarray]:\n",
    "    diffs = np.diff(df_vals, axis=1)\n",
    "    return {\n",
    "        f\"{prefix}_diff_mean\": diffs.mean(axis=1),\n",
    "        f\"{prefix}_diff_std\": diffs.std(axis=1),\n",
    "        f\"{prefix}_diff_min\": diffs.min(axis=1),\n",
    "        f\"{prefix}_diff_max\": diffs.max(axis=1),\n",
    "        f\"{prefix}_diff_last\": diffs[:, -1],\n",
    "    }"
   ]
  },
  {
   "cell_type": "markdown",
   "metadata": {},
   "source": [
    "**Cell 5/11 — Hàm FE chính + kiểm tra đa cộng tuyến**"
   ]
  },
  {
   "cell_type": "code",
   "execution_count": 21,
   "metadata": {
    "trusted": true
   },
   "outputs": [
    {
     "name": "stdout",
     "output_type": "stream",
     "text": [
      "Final features: 21 | cats: ['SEX', 'EDUCATION', 'MARRIAGE']\n"
     ]
    }
   ],
   "source": [
    "# ================== CELL 5/6 GỌN: FE tối giản + tránh đa cộng tuyến ==================\n",
    "import numpy as np, pandas as pd\n",
    "\n",
    "def build_features(df: pd.DataFrame) -> pd.DataFrame:\n",
    "    out = pd.DataFrame(index=df.index)\n",
    "\n",
    "    # Demographics & scale\n",
    "    out[\"LIMIT_BAL\"]   = df[\"LIMIT_BAL\"].astype(float)\n",
    "    out[\"LIMIT_BAL_log\"] = np.log1p(out[\"LIMIT_BAL\"])\n",
    "    out[\"AGE\"]         = df[\"AGE\"].astype(float)\n",
    "    for c in [\"SEX\",\"EDUCATION\",\"MARRIAGE\"]:\n",
    "        out[c] = df[c].astype(int)\n",
    "\n",
    "    # Utilization (BILL/LIMIT): mean, max, slope\n",
    "    bills = df[[f\"BILL_AMT{i}\" for i in range(1,7)]].astype(float)\n",
    "    limit = out[\"LIMIT_BAL\"].replace(0, np.nan)\n",
    "    util  = bills.div(limit, axis=0).clip(0,3).fillna(0.0)\n",
    "    out[\"util_mean\"] = util.mean(axis=1)\n",
    "    out[\"util_max\"]  = util.max(axis=1)\n",
    "    # slope\n",
    "    x = np.arange(1,7, dtype=float)\n",
    "    A = np.vstack([x, np.ones_like(x)]).T\n",
    "    out[\"util_slope\"] = (util.values @ (A[:,0]/np.dot(A[:,0],A[:,0])) - util.values.mean(axis=1)*0 + 0)  # fast slope (OLS m ≈ cov/var)\n",
    "\n",
    "    # Bill dynamics (Δ month): mean, std\n",
    "    diffs = np.diff(bills.values, axis=1)\n",
    "    out[\"bill_diff_mean\"] = diffs.mean(axis=1)\n",
    "    out[\"bill_diff_std\"]  = diffs.std(axis=1)\n",
    "\n",
    "    # Payment ratio (PAY/BILL): mean, max, slope\n",
    "    eps=1e-3\n",
    "    payr = np.vstack([\n",
    "        (df[f\"PAY_AMT{i}\"].astype(float).values / (df[f\"BILL_AMT{i}\"].astype(float).values + eps)).clip(0,1.5)\n",
    "        for i in range(1,7)\n",
    "    ]).T\n",
    "    out[\"payr_mean\"]  = payr.mean(axis=1)\n",
    "    out[\"payr_max\"]   = payr.max(axis=1)\n",
    "    # slope\n",
    "    out[\"payr_slope\"] = (payr @ (A[:,0]/np.dot(A[:,0],A[:,0])))\n",
    "\n",
    "    # PAY status summary (delinquency)\n",
    "    pays = df[[\"PAY_0\",\"PAY_2\",\"PAY_3\",\"PAY_4\",\"PAY_5\",\"PAY_6\"]].astype(float).values\n",
    "    out[\"pay_recency\"] = df[\"PAY_0\"].astype(float)\n",
    "    out[\"pay_max\"]     = pays.max(axis=1)\n",
    "    # weighted sum (gần đây nặng hơn)\n",
    "    weights = np.arange(pays.shape[1],0,-1, dtype=float)\n",
    "    out[\"pay_wsum\"]    = (np.clip(pays,0,None) * weights).sum(axis=1)\n",
    "    # consecutive delay\n",
    "    consec=[]\n",
    "    for row in pays:\n",
    "        s=b=0\n",
    "        for v in row:\n",
    "            if v>=1: s+=1; b=max(b,s)\n",
    "            else: s=0\n",
    "        consec.append(b)\n",
    "    out[\"consec_delay\"] = consec\n",
    "\n",
    "    # Stress features (ít mà chất)\n",
    "    short = np.vstack([(df[f\"BILL_AMT{i}\"].astype(float).values - df[f\"PAY_AMT{i}\"].astype(float).values) for i in range(1,7)])\n",
    "    out[\"cum_unpaid\"] = short.sum(axis=0).clip(min=0)\n",
    "    over = np.vstack([(df[f\"BILL_AMT{i}\"] > df[\"LIMIT_BAL\"]).astype(int).values for i in range(1,7)])\n",
    "    out[\"over_limit_sum\"] = over.sum(axis=0)\n",
    "\n",
    "    # Interaction\n",
    "    out[\"edu_util\"] = df[\"EDUCATION\"].astype(float) * out[\"util_mean\"]\n",
    "\n",
    "    # Không giữ thêm block trùng tín hiệu → gọn và sạch\n",
    "    return out.replace([np.inf,-np.inf], np.nan).fillna(0.0)\n",
    "\n",
    "# ==== Apply (giữ nguyên y, IDs từ cell trước) ====\n",
    "X_train_raw = train_df.drop(columns=[\"default_payment_next_month\",\"ID\"])\n",
    "X_test_raw  = test_df.drop(columns=[\"ID\"])\n",
    "X_df        = build_features(X_train_raw)\n",
    "X_test_df   = build_features(X_test_raw)\n",
    "cat_cols    = [\"SEX\",\"EDUCATION\",\"MARRIAGE\"]  # đủ cho CatBoost\n",
    "cat_idx     = [X_df.columns.get_loc(c) for c in cat_cols]\n",
    "assert list(X_df.columns)==list(X_test_df.columns)\n",
    "print(\"Final features:\", X_df.shape[1], \"| cats:\", cat_cols)\n"
   ]
  },
  {
   "cell_type": "markdown",
   "metadata": {},
   "source": [
    "Kiểm tra đa cộng tuyến"
   ]
  },
  {
   "cell_type": "code",
   "execution_count": 23,
   "metadata": {},
   "outputs": [
    {
     "name": "stdout",
     "output_type": "stream",
     "text": [
      "[corr] High-corr pairs (≥0.95): 2\n",
      "  util_mean  ~  util_slope: 0.989\n",
      "  payr_mean  ~  payr_slope: 0.972\n"
     ]
    }
   ],
   "source": [
    "# ================== CORR CHECK (warning only) ==================\n",
    "def corr_report(df: pd.DataFrame, thr: float = 0.95, max_pairs: int = 30):\n",
    "    C = df.corr().abs()\n",
    "    iu = np.triu_indices_from(C, k=1)\n",
    "    pairs = [(C.index[i], C.columns[j], C.values[i, j])\n",
    "             for i, j in zip(*iu) if C.values[i, j] >= thr]\n",
    "    pairs.sort(key=lambda x: -x[2])\n",
    "    print(f\"[corr] High-corr pairs (≥{thr}): {len(pairs)}\")\n",
    "    for a, b, v in pairs[:max_pairs]:\n",
    "        print(f\"  {a}  ~  {b}: {v:.3f}\")\n",
    "    return pairs, C\n",
    "\n",
    "pairs, C = corr_report(X_df, thr=0.95, max_pairs=20)\n"
   ]
  },
  {
   "cell_type": "markdown",
   "metadata": {},
   "source": [
    "->  Cả 2 cặp đều đo “mức độ + xu hướng” cùng một hành vi (sử dụng hạn mức hoặc trả nợ).  \n",
    "    Trong dataset này, hành vi khách khá “ổn định”: người hay dùng nhiều → cũng là người nợ tăng; người trả tốt → cũng là người trả đều.  \n",
    "    Do đó slope không mang thông tin bổ sung độc lập, mà chỉ là “phiên bản biến đổi tuyến tính” của mean.\n",
    "Kết luận:\n",
    "util_mean > util_slope → drop slope\n",
    "payr_mean > payr_slope → drop slope"
   ]
  },
  {
   "cell_type": "code",
   "execution_count": 24,
   "metadata": {},
   "outputs": [
    {
     "name": "stdout",
     "output_type": "stream",
     "text": [
      "After extra drop: 19 features\n",
      "Dropped explicitly: ['util_slope', 'payr_slope']\n"
     ]
    }
   ],
   "source": [
    "# ================== CELL: Drop bổ sung sau corr-check ==================\n",
    "drop_extra = [\"util_slope\", \"payr_slope\"]\n",
    "\n",
    "train_fe = X_df.drop(columns=drop_extra, errors=\"ignore\")\n",
    "test_fe  = X_test_df.drop(columns=drop_extra, errors=\"ignore\")\n",
    "\n",
    "X_df, X_test_df = train_fe, test_fe\n",
    "\n",
    "print(f\"After extra drop: {X_df.shape[1]} features\")\n",
    "print(f\"Dropped explicitly: {drop_extra}\")"
   ]
  },
  {
   "cell_type": "markdown",
   "metadata": {},
   "source": [
    "**Cell 6/11 — Load data + FE + matrix hoá**"
   ]
  },
  {
   "cell_type": "code",
   "execution_count": 25,
   "metadata": {
    "trusted": true
   },
   "outputs": [
    {
     "name": "stdout",
     "output_type": "stream",
     "text": [
      "Feature dim: 19 | Train: 23000 | Test: 7000\n",
      "Categorical cols: ['SEX', 'EDUCATION', 'MARRIAGE']\n",
      "Dropped 2 highly correlated features: ['payr_slope', 'util_slope']\n",
      "Done in 0.15s\n"
     ]
    }
   ],
   "source": [
    "# ============================== CELL 6: Load Data & Build FE (with collinearity filter) ==============================\n",
    "import time\n",
    "\n",
    "start_time = time.time()\n",
    "\n",
    "# --- Load CSV ---\n",
    "train = pd.read_csv(TRAIN_CSV)\n",
    "test  = pd.read_csv(TEST_CSV)\n",
    "\n",
    "TARGET_COL = \"default_payment_next_month\"\n",
    "ID_COL = \"ID\"\n",
    "\n",
    "y = train[TARGET_COL].astype(int).values\n",
    "train_ids = train[ID_COL].values\n",
    "test_ids  = test[ID_COL].values\n",
    "\n",
    "# --- Build features ---\n",
    "X_train_raw = train.drop(columns=[TARGET_COL, ID_COL])\n",
    "X_test_raw  = test.drop(columns=[ID_COL])\n",
    "\n",
    "train_fe = build_features(X_train_raw)\n",
    "test_fe  = build_features(X_test_raw)\n",
    "\n",
    "# --- Collinearity filter ---\n",
    "corr = train_fe.corr().abs()\n",
    "high_corr = [(i,j) for i in corr.columns for j in corr.columns if i!=j and corr.loc[i,j]>0.95]\n",
    "\n",
    "# Tự động drop: giữ lại cột xuất hiện ít lần, bỏ cột còn lại trong cặp trùng\n",
    "drop_cols = set()\n",
    "seen = set()\n",
    "for i,j in high_corr:\n",
    "    if j not in drop_cols and j not in seen:\n",
    "        drop_cols.add(j)   # drop j, giữ i\n",
    "    seen.add(i); seen.add(j)\n",
    "\n",
    "train_fe = train_fe.drop(columns=list(drop_cols), errors=\"ignore\")\n",
    "test_fe  = test_fe.drop(columns=list(drop_cols), errors=\"ignore\")\n",
    "\n",
    "# --- Categorical columns ---\n",
    "cat_cols = [c for c in [\"SEX\",\"EDUCATION\",\"MARRIAGE\",\"AGE_BIN\"] if c in train_fe.columns]\n",
    "\n",
    "# Ensure categorical as int\n",
    "for c in cat_cols:\n",
    "    train_fe[c] = train_fe[c].astype(\"int64\")\n",
    "    test_fe[c]  = test_fe[c].astype(\"int64\")\n",
    "\n",
    "# Final dataset\n",
    "X_df      = train_fe.copy()\n",
    "X_test_df = test_fe.copy()\n",
    "\n",
    "cat_idx = [X_df.columns.get_loc(c) for c in cat_cols]   # cho CatBoost\n",
    "\n",
    "# Safety check\n",
    "assert list(X_df.columns) == list(X_test_df.columns), \"Train/Test feature sets KHÔNG khớp!\"\n",
    "\n",
    "print(f\"Feature dim: {X_df.shape[1]} | Train: {X_df.shape[0]} | Test: {X_test_df.shape[0]}\")\n",
    "print(f\"Categorical cols: {cat_cols}\")\n",
    "print(f\"Dropped {len(drop_cols)} highly correlated features: {sorted(drop_cols)}\")\n",
    "print(f\"Done in {(time.time()-start_time):.2f}s\")\n"
   ]
  },
  {
   "cell_type": "markdown",
   "metadata": {},
   "source": [
    "**Cell 7/11 — Train LightGBM**"
   ]
  },
  {
   "cell_type": "code",
   "execution_count": 34,
   "metadata": {
    "trusted": true
   },
   "outputs": [
    {
     "name": "stdout",
     "output_type": "stream",
     "text": [
      "[LGB][seed 42] OOF AUC = 0.787583\n",
      "[LGB][seed 2021] OOF AUC = 0.788730\n",
      "[LGB][seed 7] OOF AUC = 0.785929\n",
      "[LGB][seed 99] OOF AUC = 0.782087\n",
      "[LGB][seed 1234] OOF AUC = 0.781805\n",
      "\n",
      "========== LGB Summary ==========\n",
      "Seeds run      : [42, 2021, 7, 99, 1234]\n",
      "Mean OOF AUC   : 0.785227\n",
      "Best OOF AUC   : 0.788730\n",
      "Worst OOF AUC  : 0.781805\n",
      "Training time  : 905.9 sec\n"
     ]
    },
    {
     "data": {
      "image/png": "[encoded data removed]",
      "text/plain": [
       "<Figure size 600x400 with 1 Axes>"
      ]
     },
     "metadata": {},
     "output_type": "display_data"
    }
   ],
   "source": [
    "oof_store, test_store, auc_store = {}, {}, {}\n",
    "\n",
    "lgb_oofs, lgb_tests, lgb_aucs = [], [], []\n",
    "for sd in SEEDS:\n",
    "    set_seed(sd)\n",
    "    params = dict(\n",
    "        objective=\"binary\",\n",
    "        learning_rate=0.05,\n",
    "        num_leaves=31,\n",
    "        max_depth=-1,\n",
    "        min_data_in_leaf=60,\n",
    "        feature_fraction=0.9,\n",
    "        bagging_fraction=0.9,\n",
    "        bagging_freq=1,\n",
    "        lambda_l1=0.0,\n",
    "        lambda_l2=10.0,\n",
    "        metric=\"auc\",\n",
    "        n_estimators=2000,\n",
    "        random_state=sd,\n",
    "        verbose=-1,\n",
    "    )\n",
    "    skf = StratifiedKFold(n_splits=N_FOLDS, shuffle=True, random_state=sd)\n",
    "    oof_pred = np.zeros(len(X_df), dtype=np.float64)\n",
    "    tst_pred = np.zeros(len(X_test_df), dtype=np.float64)\n",
    "\n",
    "    for fold, (trn_idx, val_idx) in enumerate(skf.split(X_df, y), 1):\n",
    "        X_tr, y_tr = X_df.iloc[trn_idx], y[trn_idx]\n",
    "        X_va, y_va = X_df.iloc[val_idx], y[val_idx]\n",
    "\n",
    "        model = lgb.LGBMClassifier(**params)\n",
    "        model.fit(\n",
    "            X_tr, y_tr,\n",
    "            eval_set=[(X_va, y_va)],\n",
    "            eval_metric=\"auc\",\n",
    "            categorical_feature=cat_cols,  # by NAME\n",
    "            callbacks=[lgb.early_stopping(stopping_rounds=200, verbose=False)],\n",
    "        )\n",
    "        oof_pred[val_idx] = model.predict_proba(X_va)[:, 1]\n",
    "        tst_pred += model.predict_proba(X_test_df)[:, 1] / N_FOLDS\n",
    "\n",
    "    lgb_oofs.append(oof_pred)\n",
    "    lgb_tests.append(tst_pred)\n",
    "    lgb_auc = auc(y, oof_pred)\n",
    "    lgb_aucs.append(lgb_auc)\n",
    "    print(f\"[LGB][seed {sd}] OOF AUC = {lgb_auc:.6f}\")\n",
    "\n",
    "oof_store[\"lgb\"] = np.vstack(lgb_oofs).mean(axis=0)\n",
    "test_store[\"lgb\"] = np.vstack(lgb_tests).mean(axis=0)\n",
    "auc_store[\"lgb_mean_auc\"] = float(np.mean(lgb_aucs))\n",
    "\n",
    "# ================= Extra reporting block =================\n",
    "import matplotlib.pyplot as plt\n",
    "\n",
    "elapsed = time.time() - start_time\n",
    "print(\"\\n========== LGB Summary ==========\")\n",
    "print(f\"Seeds run      : {SEEDS}\")\n",
    "print(f\"Mean OOF AUC   : {np.mean(lgb_aucs):.6f}\")\n",
    "print(f\"Best OOF AUC   : {np.max(lgb_aucs):.6f}\")\n",
    "print(f\"Worst OOF AUC  : {np.min(lgb_aucs):.6f}\")\n",
    "print(f\"Training time  : {elapsed:.1f} sec\")\n",
    "\n",
    "# Histogram of OOF predictions\n",
    "plt.figure(figsize=(6,4))\n",
    "plt.hist(oof_store[\"lgb\"], bins=50, alpha=0.7, color=\"steelblue\", edgecolor=\"k\")\n",
    "plt.xlabel(\"OOF prediction (probability)\")\n",
    "plt.ylabel(\"Count\")\n",
    "plt.title(\"Distribution of LGB OOF predictions\")\n",
    "plt.show()"
   ]
  },
  {
   "cell_type": "markdown",
   "metadata": {},
   "source": [
    "**Cell 8/11 — Train XGBoost**"
   ]
  },
  {
   "cell_type": "code",
   "execution_count": 33,
   "metadata": {
    "trusted": true
   },
   "outputs": [
    {
     "name": "stdout",
     "output_type": "stream",
     "text": [
      "[XGB][seed 42] OOF AUC = 0.789008 | best_iter per fold: [95, 213, 191, 421, 506, 78, 116, 197, 133, 166]\n",
      "[XGB][seed 2021] OOF AUC = 0.789083 | best_iter per fold: [77, 143, 49, 138, 163, 174, 242, 241, 209, 210]\n",
      "[XGB][seed 7] OOF AUC = 0.788942 | best_iter per fold: [124, 164, 91, 89, 248, 274, 406, 106, 180, 122]\n",
      "[XGB][seed 99] OOF AUC = 0.788417 | best_iter per fold: [118, 223, 217, 40, 155, 341, 215, 109, 199, 224]\n",
      "[XGB][seed 1234] OOF AUC = 0.789425 | best_iter per fold: [180, 127, 151, 144, 258, 177, 102, 153, 92, 183]\n",
      "\n",
      "========== XGB Summary ==========\n",
      "Seeds run       : [42, 2021, 7, 99, 1234]\n",
      "Mean OOF AUC    : 0.788975\n",
      "Best OOF AUC    : 0.789425\n",
      "Worst OOF AUC   : 0.788417\n",
      "Mean best_iter  : 179.5\n",
      "Training time   : 31.3 sec\n"
     ]
    },
    {
     "data": {
      "image/png": "[encoded data removed]",
      "text/plain": [
       "<Figure size 600x400 with 1 Axes>"
      ]
     },
     "metadata": {},
     "output_type": "display_data"
    }
   ],
   "source": [
    "# ============================== CELL 8/11 (patched): Train XGBoost via xgb.train + DMatrix ==============================\n",
    "\"\"\"XGBoost: dùng low-level API (xgb.train) để tương thích mọi version; có early stopping ổn định.\n",
    "Giữ DataFrame end-to-end; KHÔNG downcast float.\"\"\"\n",
    "\n",
    "# Kho lưu kết quả đã khởi tạo ở cell trước: oof_store, test_store, auc_store\n",
    "xgb_oofs, xgb_tests, xgb_aucs = [], [], []\n",
    "xgb_best_iters = []  # lưu best_iteration cho từng seed (list of lists)\n",
    "\n",
    "# Cân bằng lớp cho scale_pos_weight\n",
    "neg, pos = (y == 0).sum(), (y == 1).sum()\n",
    "spw = neg / max(pos, 1)\n",
    "\n",
    "# Tham số cho xgb.train (native params)\n",
    "base_params = {\n",
    "    \"objective\": \"binary:logistic\",\n",
    "    \"eval_metric\": \"auc\",\n",
    "    \"eta\": 0.05,\n",
    "    \"max_depth\": 4,\n",
    "    \"min_child_weight\": 5,\n",
    "    \"subsample\": 0.9,\n",
    "    \"colsample_bytree\": 0.9,\n",
    "    \"reg_lambda\": 2.0,\n",
    "    \"tree_method\": \"hist\",\n",
    "    \"scale_pos_weight\": spw,\n",
    "    \"nthread\": -1,\n",
    "}\n",
    "\n",
    "# Reuse DMatrix cho test để nhanh hơn\n",
    "dtest_global = xgb.DMatrix(X_test_df)\n",
    "\n",
    "xgb_start = time.time()\n",
    "\n",
    "for sd in SEEDS:\n",
    "    params = dict(base_params)\n",
    "    params[\"seed\"] = sd\n",
    "\n",
    "    skf = StratifiedKFold(n_splits=N_FOLDS, shuffle=True, random_state=sd)\n",
    "    oof_pred = np.zeros(len(X_df), dtype=np.float64)\n",
    "    tst_pred = np.zeros(len(X_test_df), dtype=np.float64)\n",
    "    fold_best = []\n",
    "\n",
    "    for fold, (trn_idx, val_idx) in enumerate(skf.split(X_df, y), 1):\n",
    "        X_tr, y_tr = X_df.iloc[trn_idx], y[trn_idx]\n",
    "        X_va, y_va = X_df.iloc[val_idx], y[val_idx]\n",
    "\n",
    "        dtr = xgb.DMatrix(X_tr, label=y_tr)\n",
    "        dva = xgb.DMatrix(X_va, label=y_va)\n",
    "\n",
    "        booster = xgb.train(\n",
    "            params=params,\n",
    "            dtrain=dtr,\n",
    "            num_boost_round=5000,\n",
    "            evals=[(dva, \"valid\")],\n",
    "            early_stopping_rounds=200,\n",
    "            verbose_eval=False,  # đổi thành 100 nếu muốn xem log\n",
    "        )\n",
    "\n",
    "        # Dự đoán theo best_iteration (compat cho mọi version)\n",
    "        try:\n",
    "            val_pred  = booster.predict(dva,  iteration_range=(0, booster.best_iteration + 1))\n",
    "            test_pred = booster.predict(dtest_global, iteration_range=(0, booster.best_iteration + 1))\n",
    "            best_it = int(booster.best_iteration)\n",
    "        except Exception:\n",
    "            ntree = getattr(booster, \"best_ntree_limit\", None)\n",
    "            if ntree is None:\n",
    "                ntree = getattr(booster, \"best_iteration\", 0) + 1\n",
    "            val_pred  = booster.predict(dva,  ntree_limit=ntree)\n",
    "            test_pred = booster.predict(dtest_global, ntree_limit=ntree)\n",
    "            best_it = int(ntree) - 1 if ntree is not None else None\n",
    "\n",
    "        oof_pred[val_idx] = val_pred\n",
    "        tst_pred += test_pred / N_FOLDS\n",
    "        fold_best.append(best_it)\n",
    "\n",
    "    xgb_oofs.append(oof_pred)\n",
    "    xgb_tests.append(tst_pred)\n",
    "    xgb_best_iters.append(fold_best)\n",
    "\n",
    "    xgb_auc = auc(y, oof_pred)\n",
    "    xgb_aucs.append(xgb_auc)\n",
    "    print(f\"[XGB][seed {sd}] OOF AUC = {xgb_auc:.6f} | best_iter per fold: {fold_best}\")\n",
    "\n",
    "# Trung bình qua seeds\n",
    "oof_store[\"xgb\"]  = np.vstack(xgb_oofs).mean(axis=0)\n",
    "test_store[\"xgb\"] = np.vstack(xgb_tests).mean(axis=0)\n",
    "auc_store[\"xgb_mean_auc\"] = float(np.mean(xgb_aucs))\n",
    "\n",
    "# ================= Extra reporting block for XGB =================\n",
    "import matplotlib.pyplot as plt\n",
    "\n",
    "elapsed = time.time() - xgb_start\n",
    "flat_best = [bi for seed_list in xgb_best_iters for bi in seed_list if bi is not None]\n",
    "mean_best = (np.mean(flat_best) if len(flat_best) else np.nan)\n",
    "\n",
    "print(\"\\n========== XGB Summary ==========\")\n",
    "print(f\"Seeds run       : {SEEDS}\")\n",
    "print(f\"Mean OOF AUC    : {np.mean(xgb_aucs):.6f}\")\n",
    "print(f\"Best OOF AUC    : {np.max(xgb_aucs):.6f}\")\n",
    "print(f\"Worst OOF AUC   : {np.min(xgb_aucs):.6f}\")\n",
    "print(f\"Mean best_iter  : {mean_best:.1f}\" if len(flat_best) else \"Mean best_iter  : n/a\")\n",
    "print(f\"Training time   : {elapsed:.1f} sec\")\n",
    "\n",
    "plt.figure(figsize=(6,4))\n",
    "plt.hist(oof_store[\"xgb\"], bins=50, alpha=0.7, edgecolor=\"k\")\n",
    "plt.xlabel(\"OOF prediction (probability)\")\n",
    "plt.ylabel(\"Count\")\n",
    "plt.title(\"Distribution of XGB OOF predictions\")\n",
    "plt.show()\n"
   ]
  },
  {
   "cell_type": "markdown",
   "metadata": {},
   "source": [
    "**CELL 9/11: Train CatBoost**"
   ]
  },
  {
   "cell_type": "code",
   "execution_count": 35,
   "metadata": {
    "trusted": true
   },
   "outputs": [
    {
     "name": "stdout",
     "output_type": "stream",
     "text": [
      "[CAT][seed 42] OOF AUC = 0.790561 | best_iter per fold: [227, 328, 420, 323, 418, 83, 266, 261, 233, 280]\n",
      "[CAT][seed 2021] OOF AUC = 0.790603 | best_iter per fold: [203, 145, 270, 277, 239, 289, 353, 297, 250, 408]\n",
      "[CAT][seed 7] OOF AUC = 0.790630 | best_iter per fold: [263, 204, 217, 206, 261, 366, 442, 265, 229, 410]\n",
      "[CAT][seed 99] OOF AUC = 0.790377 | best_iter per fold: [352, 186, 409, 88, 286, 244, 373, 223, 226, 577]\n",
      "[CAT][seed 1234] OOF AUC = 0.789737 | best_iter per fold: [324, 210, 195, 101, 441, 272, 222, 312, 229, 763]\n",
      "\n",
      "========== CAT Summary ==========\n",
      "Seeds run       : [42, 2021, 7, 99, 1234]\n",
      "Mean OOF AUC    : 0.790381\n",
      "Best OOF AUC    : 0.790630\n",
      "Worst OOF AUC   : 0.789737\n",
      "Mean best_iter  : 289.3\n",
      "Training time   : 1684.5 sec\n"
     ]
    },
    {
     "data": {
      "image/png": "[encoded data removed]",
      "text/plain": [
       "<Figure size 600x400 with 1 Axes>"
      ]
     },
     "metadata": {},
     "output_type": "display_data"
    }
   ],
   "source": [
    "# ============================== CELL 9/11 (patched): Train CatBoost ==============================\n",
    "\"\"\"Train CAT using Pool with cat_features by index; keep numeric floats as-is.\"\"\"\n",
    "\n",
    "# Kho lưu kết quả đã có: oof_store, test_store, auc_store\n",
    "cat_oofs, cat_tests, cat_aucs = [], [], []\n",
    "cat_best_iters = []  # lưu best_iteration cho từng seed (list of lists)\n",
    "\n",
    "# Reuse test Pool để nhanh hơn\n",
    "test_pool_global = Pool(\n",
    "    X_test_df,\n",
    "    cat_features=cat_idx if len(cat_idx) else None\n",
    ")\n",
    "\n",
    "cat_start = time.time()\n",
    "\n",
    "for sd in SEEDS:\n",
    "    set_seed(sd)\n",
    "    params = dict(\n",
    "        loss_function=\"Logloss\",\n",
    "        eval_metric=\"AUC\",\n",
    "        depth=6,\n",
    "        learning_rate=0.05,\n",
    "        l2_leaf_reg=5.0,\n",
    "        random_seed=sd,\n",
    "        iterations=3000,\n",
    "        od_type=\"Iter\",     # early stopping theo số vòng\n",
    "        od_wait=300,        # chờ 300 vòng không cải thiện thì dừng\n",
    "        task_type=\"CPU\",\n",
    "        verbose=False,\n",
    "    )\n",
    "\n",
    "    skf = StratifiedKFold(n_splits=N_FOLDS, shuffle=True, random_state=sd)\n",
    "    oof_pred = np.zeros(len(X_df), dtype=np.float64)\n",
    "    tst_pred = np.zeros(len(X_test_df), dtype=np.float64)\n",
    "    fold_best = []\n",
    "\n",
    "    for fold, (trn_idx, val_idx) in enumerate(skf.split(X_df, y), 1):\n",
    "        X_tr, y_tr = X_df.iloc[trn_idx], y[trn_idx]\n",
    "        X_va, y_va = X_df.iloc[val_idx], y[val_idx]\n",
    "\n",
    "        train_pool = Pool(X_tr, y_tr, cat_features=cat_idx if len(cat_idx) else None)\n",
    "        valid_pool = Pool(X_va, y_va, cat_features=cat_idx if len(cat_idx) else None)\n",
    "\n",
    "        model = CatBoostClassifier(**params)\n",
    "        model.fit(train_pool, eval_set=valid_pool, use_best_model=True)\n",
    "\n",
    "        # predict theo best iteration\n",
    "        oof_pred[val_idx] = model.predict_proba(valid_pool)[:, 1]\n",
    "        tst_pred += model.predict_proba(test_pool_global)[:, 1] / N_FOLDS\n",
    "\n",
    "        # lưu best_iter của fold (nếu có)\n",
    "        bi = None\n",
    "        try:\n",
    "            bi = int(model.get_best_iteration())\n",
    "        except Exception:\n",
    "            pass\n",
    "        fold_best.append(bi)\n",
    "\n",
    "    cat_oofs.append(oof_pred)\n",
    "    cat_tests.append(tst_pred)\n",
    "    cat_best_iters.append(fold_best)\n",
    "\n",
    "    cat_auc = auc(y, oof_pred)\n",
    "    cat_aucs.append(cat_auc)\n",
    "    print(f\"[CAT][seed {sd}] OOF AUC = {cat_auc:.6f} | best_iter per fold: {fold_best}\")\n",
    "\n",
    "# Trung bình qua seeds\n",
    "oof_store[\"cat\"]  = np.vstack(cat_oofs).mean(axis=0)\n",
    "test_store[\"cat\"] = np.vstack(cat_tests).mean(axis=0)\n",
    "auc_store[\"cat_mean_auc\"] = float(np.mean(cat_aucs))\n",
    "\n",
    "# ================= Extra reporting block for CAT =================\n",
    "import matplotlib.pyplot as plt\n",
    "\n",
    "elapsed = time.time() - cat_start\n",
    "flat_best = [bi for seed_list in cat_best_iters for bi in seed_list if bi is not None]\n",
    "mean_best = (np.mean(flat_best) if len(flat_best) else np.nan)\n",
    "\n",
    "print(\"\\n========== CAT Summary ==========\")\n",
    "print(f\"Seeds run       : {SEEDS}\")\n",
    "print(f\"Mean OOF AUC    : {np.mean(cat_aucs):.6f}\")\n",
    "print(f\"Best OOF AUC    : {np.max(cat_aucs):.6f}\")\n",
    "print(f\"Worst OOF AUC   : {np.min(cat_aucs):.6f}\")\n",
    "print(f\"Mean best_iter  : {mean_best:.1f}\" if len(flat_best) else \"Mean best_iter  : n/a\")\n",
    "print(f\"Training time   : {elapsed:.1f} sec\")\n",
    "\n",
    "plt.figure(figsize=(6,4))\n",
    "plt.hist(oof_store[\"cat\"], bins=50, alpha=0.7, edgecolor=\"k\")\n",
    "plt.xlabel(\"OOF prediction (probability)\")\n",
    "plt.ylabel(\"Count\")\n",
    "plt.title(\"Distribution of CAT OOF predictions\")\n",
    "plt.show()\n"
   ]
  },
  {
   "cell_type": "markdown",
   "metadata": {},
   "source": [
    "**Cell 10/11 — Ensemble (rank-avg) + Stacking (Logistic) + Diagnostics**"
   ]
  },
  {
   "cell_type": "code",
   "execution_count": 36,
   "metadata": {
    "jupyter": {
     "source_hidden": true
    },
    "trusted": true
   },
   "outputs": [
    {
     "name": "stdout",
     "output_type": "stream",
     "text": [
      "[Ensemble][RankAvg] OOF AUC = 0.790950\n",
      "[Stack][LR] OOF AUC = 0.791361\n",
      "[FINAL][RankAvg(base+stack)] OOF AUC = 0.791118\n"
     ]
    }
   ],
   "source": [
    "# ============================== CELL 10/11: Ensemble, Stack, Diagnostics ==============================\n",
    "\"\"\"Rank-averaging + simple logistic stacker for robustness. You may turn off stacker if you want.\"\"\"\n",
    "\n",
    "def rank_normalize(a: np.ndarray) -> np.ndarray:\n",
    "    s = pd.Series(a)\n",
    "    r = s.rank(method='average')\n",
    "    return ((r - 1) / (len(s) - 1)).values\n",
    "\n",
    "# Sanity: must have at least one base model\n",
    "assert len(test_store) > 0, \"No base model trained. Install missing libs or check earlier cells.\"\n",
    "\n",
    "base_keys = list(test_store.keys())\n",
    "oof_base = np.vstack([oof_store[k] for k in base_keys]).T\n",
    "TST_base = np.vstack([test_store[k] for k in base_keys]).T\n",
    "\n",
    "# Rank-average ensemble\n",
    "oof_rank = np.mean(np.column_stack([rank_normalize(oof_base[:, i]) for i in range(oof_base.shape[1])]), axis=1)\n",
    "tst_rank = np.mean(np.column_stack([rank_normalize(TST_base[:, i]) for i in range(TST_base.shape[1])]), axis=1)\n",
    "auc_rank = auc(y, oof_rank)\n",
    "print(f\"[Ensemble][RankAvg] OOF AUC = {auc_rank:.6f}\")\n",
    "\n",
    "# Simple stacker on base OOF\n",
    "scaler = StandardScaler()\n",
    "X_meta = scaler.fit_transform(oof_base)\n",
    "meta_clf = LogisticRegression(max_iter=2000)\n",
    "meta_clf.fit(X_meta, y)\n",
    "oof_stack = meta_clf.predict_proba(X_meta)[:, 1]\n",
    "tst_stack = meta_clf.predict_proba(scaler.transform(TST_base))[:, 1]\n",
    "auc_stack = auc(y, oof_stack)\n",
    "print(f\"[Stack][LR] OOF AUC = {auc_stack:.6f}\")\n",
    "\n",
    "# Final blend: rank-average over (base models + stacker)\n",
    "oof_all = np.column_stack([oof_base, oof_stack])\n",
    "tst_all = np.column_stack([TST_base, tst_stack])\n",
    "oof_final = np.mean(np.column_stack([rank_normalize(oof_all[:, i]) for i in range(oof_all.shape[1])]), axis=1)\n",
    "tst_final = np.mean(np.column_stack([rank_normalize(tst_all[:, i]) for i in range(tst_all.shape[1])]), axis=1)\n",
    "auc_final = auc(y, oof_final)\n",
    "print(f\"[FINAL][RankAvg(base+stack)] OOF AUC = {auc_final:.6f}\")\n"
   ]
  },
  {
   "cell_type": "markdown",
   "metadata": {},
   "source": [
    "**Cell 11/11 — Lưu submission + OOF + meta**"
   ]
  },
  {
   "cell_type": "code",
   "execution_count": 38,
   "metadata": {
    "trusted": true
   },
   "outputs": [
    {
     "name": "stdout",
     "output_type": "stream",
     "text": [
      "[OK] Meta saved to: ./outputs\\run_meta_20250827-153644.json\n",
      "[OK] OOF diagnostics saved to: ./outputs\\oof_20250827-153644.csv\n",
      "[OK] Submission saved to: ./outputs\\submission_20250827-153644.csv\n",
      "Done in 51.87 min\n"
     ]
    }
   ],
   "source": [
    "# ============================== CELL 11/11: Save Submission & Artifacts ==============================\n",
    "\"\"\"Writes submission CSV, OOF diagnostics, and run metadata JSON into OUTDIR.\"\"\"\n",
    "\n",
    "# Chọn prediction cuối cùng để nộp\n",
    "# (mặc định dùng tst_final từ Cell 10; có thể đổi sang tst_rank hoặc tst_stack nếu muốn)\n",
    "assert 'tst_final' in globals(), \"Thiếu tst_final. Hãy chạy Cell 10 trước.\"\n",
    "assert 'test_ids' in globals(), \"Thiếu test_ids (Cell 6). Hãy chạy theo thứ tự từ đầu.\"\n",
    "\n",
    "# Lấy thông tin feature/shape từ đúng biến\n",
    "n_train = int(X_df.shape[0])\n",
    "n_test  = int(X_test_df.shape[0])\n",
    "n_feat  = int(X_df.shape[1])\n",
    "feat_list = list(X_df.columns)\n",
    "\n",
    "# Lưu metadata (AUCs, seeds, models)\n",
    "meta = {\n",
    "    \"time\": timestamp(),\n",
    "    \"seeds\": SEEDS,\n",
    "    \"base_models\": list(test_store.keys()),\n",
    "    \"auc\": {\n",
    "        **auc_store,\n",
    "        \"ensemble_rank\": float(auc_rank),\n",
    "        \"stack_lr\": float(auc_stack),\n",
    "        \"final_rank\": float(auc_final)\n",
    "    },\n",
    "    \"train_rows\": n_train,\n",
    "    \"test_rows\": n_test,\n",
    "    \"n_features\": n_feat,\n",
    "    \"features\": feat_list,\n",
    "}\n",
    "\n",
    "safe_makedirs(OUTDIR)\n",
    "\n",
    "# 1) Save meta JSON\n",
    "meta_path = os.path.join(OUTDIR, f\"run_meta_{timestamp()}.json\")\n",
    "with open(meta_path, \"w\", encoding=\"utf-8\") as f:\n",
    "    json.dump(meta, f, ensure_ascii=False, indent=2)\n",
    "print(f\"[OK] Meta saved to: {meta_path}\")\n",
    "\n",
    "# 2) Save OOF diagnostics\n",
    "assert 'train_ids' in globals() and 'y' in globals(), \"Thiếu train_ids hoặc y (Cell 6).\"\n",
    "assert 'base_keys' in globals(), \"Thiếu base_keys (Cell 10).\"\n",
    "\n",
    "oof_df = pd.DataFrame({\n",
    "    \"ID\": train_ids,\n",
    "    \"y\": y,\n",
    "    **{f\"oof_{k}\": oof_store[k] for k in base_keys},\n",
    "    \"oof_rank\": oof_rank,\n",
    "    \"oof_stack\": oof_stack,\n",
    "    \"oof_final\": oof_final,\n",
    "})\n",
    "oof_path = os.path.join(OUTDIR, f\"oof_{timestamp()}.csv\")\n",
    "oof_df.to_csv(oof_path, index=False)\n",
    "print(f\"[OK] OOF diagnostics saved to: {oof_path}\")\n",
    "\n",
    "# 3) Save submission (dùng tst_final)\n",
    "submission = pd.DataFrame({\n",
    "    \"ID\": test_ids,\n",
    "    \"default_payment_next_month\": tst_final  # xác suất (0..1)\n",
    "})\n",
    "sub_path = os.path.join(OUTDIR, f\"submission_{timestamp()}.csv\")\n",
    "submission.to_csv(sub_path, index=False)\n",
    "print(f\"[OK] Submission saved to: {sub_path}\")\n",
    "\n",
    "print(f\"Done in {(time.time()-start_time)/60:.2f} min\")"
   ]
  },
  {
   "cell_type": "markdown",
   "metadata": {},
   "source": [
    "**EDA kết quả**"
   ]
  },
  {
   "cell_type": "code",
   "execution_count": 39,
   "metadata": {
    "trusted": true
   },
   "outputs": [
    {
     "data": {
      "image/png": "[encoded data removed]",
      "text/plain": [
       "<Figure size 640x480 with 1 Axes>"
      ]
     },
     "metadata": {},
     "output_type": "display_data"
    }
   ],
   "source": [
    "# ===================== DIAG CELL A: ROC curves (OOF) =====================\n",
    "import numpy as np\n",
    "import matplotlib.pyplot as plt\n",
    "from sklearn.metrics import roc_auc_score, roc_curve\n",
    "\n",
    "assert 'oof_store' in globals(), \"Không thấy oof_store. Hãy chạy xong phần train trước.\"\n",
    "assert 'y' in globals(), \"Không thấy biến y (target).\"\n",
    "\n",
    "# Chọn các key để vẽ: 3 base + (nếu có) ensemble\n",
    "base_keys = [k for k in oof_store.keys() if k.lower().startswith(('lgb', 'xgb', 'cat'))]\n",
    "ens_keys  = [k for k in oof_store.keys() if any(t in k.lower() for t in ['final','blend','rank','stack','ens'])]\n",
    "\n",
    "plot_keys = []\n",
    "# Ưu tiên ensemble đầu tiên (nếu có)\n",
    "if ens_keys:\n",
    "    # lấy key ensemble có AUC cao nhất\n",
    "    best_ens = max(ens_keys, key=lambda k: roc_auc_score(y, oof_store[k]))\n",
    "    plot_keys.append(best_ens)\n",
    "# thêm 3 base (nếu có)\n",
    "for fam in ['lgb','xgb','cat']:\n",
    "    kfam = [k for k in base_keys if k.lower().startswith(fam)]\n",
    "    if kfam:\n",
    "        # nếu có nhiều phiên bản, lấy AUC cao nhất trong fam\n",
    "        best = max(kfam, key=lambda k: roc_auc_score(y, oof_store[k]))\n",
    "        plot_keys.append(best)\n",
    "\n",
    "# Nếu chưa có gì (case hiếm), vẽ tất cả\n",
    "if not plot_keys:\n",
    "    plot_keys = list(oof_store.keys())\n",
    "\n",
    "plt.figure()\n",
    "for k in plot_keys:\n",
    "    fpr, tpr, _ = roc_curve(y, oof_store[k])\n",
    "    auc = roc_auc_score(y, oof_store[k])\n",
    "    plt.plot(fpr, tpr, label=f\"{k} | AUC={auc:.4f}\")\n",
    "\n",
    "plt.plot([0,1], [0,1], linestyle=\"--\", linewidth=1)\n",
    "plt.xlabel(\"False Positive Rate\"); plt.ylabel(\"True Positive Rate\")\n",
    "plt.title(\"ROC curves (OOF)\")\n",
    "plt.legend()\n",
    "plt.tight_layout()\n",
    "plt.show()\n"
   ]
  }
 ],
 "metadata": {
  "kaggle": {
   "accelerator": "none",
   "dataSources": [
    {
     "databundleVersionId": 13192240,
     "sourceId": 108801,
     "sourceType": "competition"
    }
   ],
   "dockerImageVersionId": 31089,
   "isGpuEnabled": false,
   "isInternetEnabled": true,
   "language": "python",
   "sourceType": "notebook"
  },
  "kernelspec": {
   "display_name": "Python 3",
   "language": "python",
   "name": "python3"
  },
  "language_info": {
   "codemirror_mode": {
    "name": "ipython",
    "version": 3
   },
   "file_extension": ".py",
   "mimetype": "text/x-python",
   "name": "python",
   "nbconvert_exporter": "python",
   "pygments_lexer": "ipython3",
   "version": "3.13.5"
  }
 },
 "nbformat": 4,
 "nbformat_minor": 4
}
